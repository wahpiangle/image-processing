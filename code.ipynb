{
 "cells": [
  {
   "cell_type": "code",
   "execution_count": null,
   "metadata": {},
   "outputs": [],
   "source": [
    "import cv2\n",
    "import numpy as np\n",
    "import matplotlib.pyplot as plt\n",
    "\n",
    "input_path = \"Dataset/input_images/\"\n",
    "output_path = \"output_images/\"\n",
    "\n",
    "easy1_image = cv2.imread(input_path + \"easy/easy_1.jpg\")\n",
    "easy2_image = cv2.imread(input_path + \"easy/easy_2.jpg\")\n",
    "easy3_image = cv2.imread(input_path + \"easy/easy_3.jpg\")\n",
    "medium1_image = cv2.imread(input_path + \"medium/medium_1.jpg\")\n",
    "medium2_image = cv2.imread(input_path + \"medium/medium_2.jpg\")\n",
    "medium3_image = cv2.imread(input_path + \"medium/medium_3.jpg\")\n",
    "hard1_image = cv2.imread(input_path + \"hard/hard_1.jpg\")\n",
    "hard2_image = cv2.imread(input_path + \"hard/hard_2.jpg\")\n",
    "hard3_image = cv2.imread(input_path + \"hard/hard_3.jpg\")\n",
    "images = [easy1_image, easy2_image, easy3_image, medium1_image, medium2_image, medium3_image, hard1_image, hard2_image, hard3_image]"
   ]
  },
  {
   "cell_type": "code",
   "execution_count": null,
   "metadata": {},
   "outputs": [],
   "source": [
    "# using HSV \n",
    "\n",
    "for i in range(len(images)):\n",
    "    hsv = cv2.cvtColor(images[i], cv2.COLOR_BGR2HSV)\n",
    "    lower_yellow = np.array([55/2, 30/100*255, 40/100*255]) \n",
    "    upper_yellow = np.array([65/2, 100/100*255, 100/100*255])\n",
    "    mask = cv2.inRange(hsv, lower_yellow, upper_yellow)\n",
    "    \n",
    "    # Apply mask to original image\n",
    "    result = cv2.bitwise_and(images[i], images[i], mask=mask)\n",
    "    \n",
    "    # Plot the result by 3x3 grid\n",
    "    plt.subplot(3, 3, i+1)\n",
    "    plt.imshow(cv2.cvtColor(result, cv2.COLOR_BGR2RGB))\n",
    "    plt.axis('off')\n",
    "    plt.title('Image ' + str(i+1))\n",
    "\n"
   ]
  },
  {
   "cell_type": "code",
   "execution_count": null,
   "metadata": {},
   "outputs": [],
   "source": [
    "# using grayscale "
   ]
  },
  {
   "cell_type": "code",
   "execution_count": null,
   "metadata": {},
   "outputs": [],
   "source": [
    "# using RGB"
   ]
  }
 ],
 "metadata": {
  "kernelspec": {
   "display_name": "Python 3",
   "language": "python",
   "name": "python3"
  },
  "language_info": {
   "codemirror_mode": {
    "name": "ipython",
    "version": 3
   },
   "file_extension": ".py",
   "mimetype": "text/x-python",
   "name": "python",
   "nbconvert_exporter": "python",
   "pygments_lexer": "ipython3",
   "version": "3.12.1"
  }
 },
 "nbformat": 4,
 "nbformat_minor": 2
}
