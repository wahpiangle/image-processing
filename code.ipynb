{
 "cells": [
  {
   "cell_type": "code",
   "execution_count": null,
   "metadata": {},
   "outputs": [],
   "source": [
    "import cv2\n",
    "import numpy as np\n",
    "import matplotlib.pyplot as plt\n",
    "\n",
    "input_path = \"Dataset/input_images/\"\n",
    "output_path = \"output_images/\"\n",
    "\n",
    "easy1_image = cv2.imread(input_path + \"easy/easy_1.jpg\")\n",
    "easy2_image = cv2.imread(input_path + \"easy/easy_2.jpg\")\n",
    "easy3_image = cv2.imread(input_path + \"easy/easy_3.jpg\")\n",
    "medium1_image = cv2.imread(input_path + \"medium/medium_1.jpg\")\n",
    "medium2_image = cv2.imread(input_path + \"medium/medium_2.jpg\")\n",
    "medium3_image = cv2.imread(input_path + \"medium/medium_3.jpg\")\n",
    "hard1_image = cv2.imread(input_path + \"hard/hard_1.jpg\")\n",
    "hard2_image = cv2.imread(input_path + \"hard/hard_2.jpg\")\n",
    "hard3_image = cv2.imread(input_path + \"hard/hard_3.jpg\")\n",
    "imageMap: dict = {\n",
    "    \"easy1\": easy1_image,\n",
    "    \"easy2\": easy2_image,\n",
    "    \"easy3\": easy3_image,\n",
    "    \"medium1\": medium1_image,\n",
    "    \"medium2\": medium2_image,\n",
    "    \"medium3\": medium3_image,\n",
    "    \"hard1\": hard1_image,\n",
    "    \"hard2\": hard2_image,\n",
    "    \"hard3\": hard3_image\n",
    "}"
   ]
  },
  {
   "cell_type": "code",
   "execution_count": null,
   "metadata": {},
   "outputs": [],
   "source": [
    "def normalize_hsv(h:int , s:int, v:int): \n",
    "    return [h/2, s/100*255, v/100*255]\n",
    "\n",
    "def threshold_image(image, lower, upper):\n",
    "    hsv = cv2.cvtColor(image, cv2.COLOR_BGR2HSV)\n",
    "    lower = np.array(normalize_hsv(lower[0], lower[1], lower[2]))\n",
    "    upper = np.array(normalize_hsv(upper[0], upper[1], upper[2]))\n",
    "    mask = cv2.inRange(hsv, lower, upper)\n",
    "    return cv2.bitwise_and(image, image, mask=mask)\n",
    "\n",
    "def threshold_image_with_blur(image, lower, upper, blur):\n",
    "    hsv = cv2.cvtColor(image, cv2.COLOR_BGR2HSV)\n",
    "    lower = np.array(normalize_hsv(lower[0], lower[1], lower[2]))\n",
    "    upper = np.array(normalize_hsv(upper[0], upper[1], upper[2]))\n",
    "    mask = cv2.inRange(hsv, lower, upper)\n",
    "    mask = cv2.GaussianBlur(mask, (blur, blur), 0)\n",
    "    return cv2.bitwise_and(image, image, mask=mask)\n",
    "\n",
    "# easy 1\n",
    "plt.figure(figsize=(20, 20))\n",
    "plt.subplot(4, 3, 1)\n",
    "plt.imshow(cv2.cvtColor(threshold_image(imageMap[\"easy1\"], [45, 0, 50], [70, 100, 100]), cv2.COLOR_RGB2BGR))\n",
    "plt.axis('off')\n",
    "plt.title(\"easy1\")\n",
    "\n",
    "# easy 2\n",
    "plt.subplot(4, 3, 2)\n",
    "plt.imshow(cv2.cvtColor(threshold_image(imageMap[\"easy2\"], [45, 40, 50], [70, 100, 100]), cv2.COLOR_RGB2BGR))\n",
    "plt.axis('off')\n",
    "plt.title(\"easy2\")\n",
    "\n",
    "# easy 3\n",
    "plt.subplot(4, 3, 3)\n",
    "plt.imshow(cv2.cvtColor(threshold_image(imageMap[\"easy3\"], [45, 0, 83], [70, 100, 100]), cv2.COLOR_RGB2BGR))\n",
    "plt.axis('off')\n",
    "plt.title(\"easy3\")\n",
    "\n",
    "plt.subplot(4, 3, 4)\n",
    "plt.imshow(cv2.cvtColor(threshold_image_with_blur(imageMap[\"easy1\"], [45, 0, 50], [70, 100, 100], 5), cv2.COLOR_RGB2BGR))\n",
    "plt.axis('off')\n",
    "plt.title(\"easy1 (With Gaussian Blur)\")\n",
    "\n",
    "plt.subplot(4, 3, 5)\n",
    "plt.imshow(cv2.cvtColor(threshold_image_with_blur(imageMap[\"easy2\"], [45, 40, 50], [70, 100, 100], 5), cv2.COLOR_RGB2BGR))\n",
    "plt.axis('off')\n",
    "plt.title(\"easy2 (With Gaussian Blur)\")\n",
    "\n",
    "plt.subplot(4, 3, 6)\n",
    "plt.imshow(cv2.cvtColor(threshold_image_with_blur(imageMap[\"easy3\"], [45, 0, 82], [66, 100, 100], 5), cv2.COLOR_RGB2BGR))\n",
    "plt.axis('off')\n",
    "plt.title(\"easy3 (With Gaussian Blur)\")\n"
   ]
  },
  {
   "cell_type": "code",
   "execution_count": null,
   "metadata": {},
   "outputs": [],
   "source": [
    "# using grayscale "
   ]
  },
  {
   "cell_type": "code",
   "execution_count": null,
   "metadata": {},
   "outputs": [],
   "source": [
    "# using RGB"
   ]
  }
 ],
 "metadata": {
  "kernelspec": {
   "display_name": "Python 3",
   "language": "python",
   "name": "python3"
  },
  "language_info": {
   "codemirror_mode": {
    "name": "ipython",
    "version": 3
   },
   "file_extension": ".py",
   "mimetype": "text/x-python",
   "name": "python",
   "nbconvert_exporter": "python",
   "pygments_lexer": "ipython3",
   "version": "3.12.1"
  }
 },
 "nbformat": 4,
 "nbformat_minor": 2
}
