{
 "cells": [
  {
   "cell_type": "code",
   "execution_count": 3,
   "metadata": {},
   "outputs": [],
   "source": [
    "import cv2\n",
    "\n",
    "input_path = \"Dataset/input_images/\"\n",
    "output_path = \"output_images/\"\n",
    "\n",
    "easy1_image = cv2.imread(input_path + \"easy/easy_1.jpg\")\n",
    "easy2_image = cv2.imread(input_path + \"easy/easy_2.jpg\")\n",
    "easy3_image = cv2.imread(input_path + \"easy/easy_3.jpg\")\n",
    "medium1_image = cv2.imread(input_path + \"medium/medium_1.jpg\")\n",
    "medium2_image = cv2.imread(input_path + \"medium/medium_2.jpg\")\n",
    "medium3_image = cv2.imread(input_path + \"medium/medium_3.jpg\")\n",
    "hard1_image = cv2.imread(input_path + \"hard/hard_1.jpg\")\n",
    "hard2_image = cv2.imread(input_path + \"hard/hard_2.jpg\")\n",
    "hard3_image = cv2.imread(input_path + \"hard/hard_3.jpg\")\n",
    "images = [easy1_image, easy2_image, easy3_image, medium1_image, medium2_image, medium3_image, hard1_image, hard2_image, hard3_image]"
   ]
  },
  {
   "cell_type": "code",
   "execution_count": null,
   "metadata": {},
   "outputs": [],
   "source": [
    "# using HSV"
   ]
  },
  {
   "cell_type": "code",
   "execution_count": null,
   "metadata": {},
   "outputs": [],
   "source": [
    "# using grayscale"
   ]
  },
  {
   "cell_type": "code",
   "execution_count": null,
   "metadata": {},
   "outputs": [],
   "source": [
    "# using RGB"
   ]
  }
 ],
 "metadata": {
  "kernelspec": {
   "display_name": "Python 3",
   "language": "python",
   "name": "python3"
  },
  "language_info": {
   "codemirror_mode": {
    "name": "ipython",
    "version": 3
   },
   "file_extension": ".py",
   "mimetype": "text/x-python",
   "name": "python",
   "nbconvert_exporter": "python",
   "pygments_lexer": "ipython3",
   "version": "3.12.1"
  }
 },
 "nbformat": 4,
 "nbformat_minor": 2
}
